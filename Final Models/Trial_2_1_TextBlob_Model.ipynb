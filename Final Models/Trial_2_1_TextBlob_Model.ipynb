{
  "cells": [
    {
      "cell_type": "markdown",
      "metadata": {
        "id": "bx1ilV0Add76"
      },
      "source": [
        "#### **Installing and Importing necessary libraries**"
      ]
    },
    {
      "cell_type": "code",
      "execution_count": 1,
      "metadata": {
        "colab": {
          "base_uri": "https://localhost:8080/"
        },
        "id": "QFz_J74BdVtY",
        "outputId": "89f72857-3423-489f-d28a-25b79fa2a91c"
      },
      "outputs": [
        {
          "name": "stdout",
          "output_type": "stream",
          "text": [
            "Requirement already satisfied: Flask in /usr/local/lib/python3.10/dist-packages (2.2.5)\n",
            "Requirement already satisfied: Werkzeug>=2.2.2 in /usr/local/lib/python3.10/dist-packages (from Flask) (3.0.2)\n",
            "Requirement already satisfied: Jinja2>=3.0 in /usr/local/lib/python3.10/dist-packages (from Flask) (3.1.3)\n",
            "Requirement already satisfied: itsdangerous>=2.0 in /usr/local/lib/python3.10/dist-packages (from Flask) (2.2.0)\n",
            "Requirement already satisfied: click>=8.0 in /usr/local/lib/python3.10/dist-packages (from Flask) (8.1.7)\n",
            "Requirement already satisfied: MarkupSafe>=2.0 in /usr/local/lib/python3.10/dist-packages (from Jinja2>=3.0->Flask) (2.1.5)\n",
            "Requirement already satisfied: textblob in /usr/local/lib/python3.10/dist-packages (0.17.1)\n",
            "Requirement already satisfied: nltk>=3.1 in /usr/local/lib/python3.10/dist-packages (from textblob) (3.8.1)\n",
            "Requirement already satisfied: click in /usr/local/lib/python3.10/dist-packages (from nltk>=3.1->textblob) (8.1.7)\n",
            "Requirement already satisfied: joblib in /usr/local/lib/python3.10/dist-packages (from nltk>=3.1->textblob) (1.4.0)\n",
            "Requirement already satisfied: regex>=2021.8.3 in /usr/local/lib/python3.10/dist-packages (from nltk>=3.1->textblob) (2023.12.25)\n",
            "Requirement already satisfied: tqdm in /usr/local/lib/python3.10/dist-packages (from nltk>=3.1->textblob) (4.66.2)\n",
            "Collecting openai==0.28\n",
            "  Downloading openai-0.28.0-py3-none-any.whl (76 kB)\n",
            "\u001b[2K     \u001b[90m━━━━━━━━━━━━━━━━━━━━━━━━━━━━━━━━━━━━━━━━\u001b[0m \u001b[32m76.5/76.5 kB\u001b[0m \u001b[31m592.9 kB/s\u001b[0m eta \u001b[36m0:00:00\u001b[0m\n",
            "\u001b[?25hRequirement already satisfied: requests>=2.20 in /usr/local/lib/python3.10/dist-packages (from openai==0.28) (2.31.0)\n",
            "Requirement already satisfied: tqdm in /usr/local/lib/python3.10/dist-packages (from openai==0.28) (4.66.2)\n",
            "Requirement already satisfied: aiohttp in /usr/local/lib/python3.10/dist-packages (from openai==0.28) (3.9.5)\n",
            "Requirement already satisfied: charset-normalizer<4,>=2 in /usr/local/lib/python3.10/dist-packages (from requests>=2.20->openai==0.28) (3.3.2)\n",
            "Requirement already satisfied: idna<4,>=2.5 in /usr/local/lib/python3.10/dist-packages (from requests>=2.20->openai==0.28) (3.7)\n",
            "Requirement already satisfied: urllib3<3,>=1.21.1 in /usr/local/lib/python3.10/dist-packages (from requests>=2.20->openai==0.28) (2.0.7)\n",
            "Requirement already satisfied: certifi>=2017.4.17 in /usr/local/lib/python3.10/dist-packages (from requests>=2.20->openai==0.28) (2024.2.2)\n",
            "Requirement already satisfied: aiosignal>=1.1.2 in /usr/local/lib/python3.10/dist-packages (from aiohttp->openai==0.28) (1.3.1)\n",
            "Requirement already satisfied: attrs>=17.3.0 in /usr/local/lib/python3.10/dist-packages (from aiohttp->openai==0.28) (23.2.0)\n",
            "Requirement already satisfied: frozenlist>=1.1.1 in /usr/local/lib/python3.10/dist-packages (from aiohttp->openai==0.28) (1.4.1)\n",
            "Requirement already satisfied: multidict<7.0,>=4.5 in /usr/local/lib/python3.10/dist-packages (from aiohttp->openai==0.28) (6.0.5)\n",
            "Requirement already satisfied: yarl<2.0,>=1.0 in /usr/local/lib/python3.10/dist-packages (from aiohttp->openai==0.28) (1.9.4)\n",
            "Requirement already satisfied: async-timeout<5.0,>=4.0 in /usr/local/lib/python3.10/dist-packages (from aiohttp->openai==0.28) (4.0.3)\n",
            "Installing collected packages: openai\n",
            "Successfully installed openai-0.28.0\n"
          ]
        }
      ],
      "source": [
        "!pip install Flask\n",
        "!pip install textblob\n",
        "!pip install openai==0.28"
      ]
    },
    {
      "cell_type": "code",
      "execution_count": 2,
      "metadata": {
        "id": "Zfx-XAezddfu"
      },
      "outputs": [],
      "source": [
        "import re\n",
        "import requests\n",
        "from bs4 import BeautifulSoup\n",
        "from ast import literal_eval\n",
        "from textblob import TextBlob\n",
        "import openai"
      ]
    },
    {
      "cell_type": "markdown",
      "metadata": {
        "id": "cKtKynHIdksP"
      },
      "source": [
        "#### **Function to find ASIN (Amazon Standard Identification Number)**"
      ]
    },
    {
      "cell_type": "code",
      "execution_count": 3,
      "metadata": {
        "id": "LvnuITdxdusQ"
      },
      "outputs": [],
      "source": [
        "def get_asin_from_url(url):\n",
        "    \"\"\" Extracts ASIN from the provided Amazon product URL. \"\"\"\n",
        "    match = re.search(r'/dp/([A-Z0-9]{10})', url)\n",
        "    return match.group(1) if match else None"
      ]
    },
    {
      "cell_type": "markdown",
      "metadata": {
        "id": "ceEyCZW-d4JB"
      },
      "source": [
        "#### **Fetching the reviews of the product using ASIN extracted from the given URL**"
      ]
    },
    {
      "cell_type": "code",
      "execution_count": 4,
      "metadata": {
        "id": "Iy-CFbnpd31w"
      },
      "outputs": [],
      "source": [
        "def fetch_reviews(url, pages=10):\n",
        "    headers = {\n",
        "        \"User-Agent\": \"Mozilla/5.0 (Macintosh; Intel Mac OS X 10_15_7) AppleWebKit/605.1.15 (KHTML, like Gecko) Version/17.4.1 Safari/605.1.15\"\n",
        "    }\n",
        "\n",
        "    asin = get_asin_from_url(url)\n",
        "    if not asin:\n",
        "        print(\"Invalid URL or ASIN not found.\")\n",
        "        return []\n",
        "\n",
        "    ajax_url = \"https://www.amazon.com/hz/reviews-render/ajax/reviews/get/ref=cm_cr_arp_d_paging_btm_next_2\"\n",
        "    payload = {\n",
        "        \"sortBy\": \"\",\n",
        "        \"reviewerType\": \"all_reviews\",\n",
        "        \"formatType\": \"\",\n",
        "        \"mediaType\": \"\",\n",
        "        \"filterByStar\": \"\",\n",
        "        \"filterByAge\": \"\",\n",
        "        \"pageNumber\": \"1\",\n",
        "        \"filterByLanguage\": \"\",\n",
        "        \"filterByKeyword\": \"\",\n",
        "        \"shouldAppend\": \"undefined\",\n",
        "        \"deviceType\": \"desktop\",\n",
        "        \"canShowIntHeader\": \"undefined\",\n",
        "        \"reftag\": \"cm_cr_arp_d_paging_btm_next_2\",\n",
        "        \"pageSize\": \"10\",\n",
        "        \"asin\": asin,\n",
        "        \"scope\": \"reviewsAjax0\",\n",
        "    }\n",
        "\n",
        "    all_reviews = []\n",
        "\n",
        "    for page in range(1, pages + 1):\n",
        "        payload[\"pageNumber\"] = str(page)\n",
        "        response = requests.post(ajax_url, data=payload, headers=headers).text\n",
        "        formatted_response = \"\\n\".join(map(literal_eval, re.findall(r'\"<div id=.*?</div>\"', response)))\n",
        "        soup = BeautifulSoup(formatted_response, \"html.parser\")\n",
        "\n",
        "        for review in soup.select('[data-hook=\"review\"]'):\n",
        "            review_text = review.select_one('[data-hook=\"review-body\"]').text.strip()\n",
        "            all_reviews.append(review_text)\n",
        "\n",
        "    return all_reviews"
      ]
    },
    {
      "cell_type": "markdown",
      "metadata": {
        "id": "zMUJRRqqeQTf"
      },
      "source": [
        "#### **Function to analyze the sentiment in the reviews using TextBlob Model**"
      ]
    },
    {
      "cell_type": "code",
      "execution_count": 11,
      "metadata": {
        "id": "eIRz7HdLeP4o"
      },
      "outputs": [],
      "source": [
        "def analyze_reviews(reviews):\n",
        "    positive = negative = neutral = 0\n",
        "    for review in reviews:\n",
        "        analysis = TextBlob(review)\n",
        "        if analysis.sentiment.polarity > 0.1:\n",
        "            positive += 1\n",
        "        elif analysis.sentiment.polarity < -0.1:\n",
        "            negative += 1\n",
        "        else:\n",
        "            neutral += 1\n",
        "\n",
        "    total_reviews = len(reviews)\n",
        "    percentages = {\n",
        "        \"Positive Percentage\": (positive / total_reviews) * 100 if total_reviews > 0 else 0,\n",
        "        \"Negative Percentage\": (negative / total_reviews) * 100 if total_reviews > 0 else 0,\n",
        "        \"Neutral Percentage\": (neutral / total_reviews) * 100 if total_reviews > 0 else 0\n",
        "    }\n",
        "    return percentages"
      ]
    },
    {
      "cell_type": "markdown",
      "metadata": {
        "id": "-RWAsMqxefTx"
      },
      "source": [
        "#### **Integrating it with the OpenAI API**"
      ]
    },
    {
      "cell_type": "code",
      "execution_count": 14,
      "metadata": {
        "id": "tqY1c79qefZP"
      },
      "outputs": [],
      "source": [
        "openai.api_key = 'API_KEY'\n",
        "\n",
        "def generate_summary(reviews):\n",
        "    text = ' '.join(reviews)\n",
        "    max_length = 4000  # OpenAI API token limit for input\n",
        "    if len(text) > max_length:\n",
        "        text = text[:max_length]  # Truncate to maximum allowed length\n",
        "\n",
        "    response = openai.Completion.create(\n",
        "        engine=\"gpt-3.5-turbo-instruct\",\n",
        "        prompt=\"Please create a concise summary of the reviews below. In four sentences, capture the key insights, highlighting the most significant positive, negative, and neutral aspects of the product. Ensure the summary is accurate and reflects the overall sentiment of the reviews. Focus on the main points that would be most helpful for someone considering this product:\\n\" + text,\n",
        "        max_tokens=150\n",
        "    )\n",
        "\n",
        "    return response.choices[0].text.strip()"
      ]
    },
    {
      "cell_type": "markdown",
      "metadata": {
        "id": "gY6eWV9ke9is"
      },
      "source": [
        "#### **Testing**"
      ]
    },
    {
      "cell_type": "code",
      "execution_count": 15,
      "metadata": {
        "colab": {
          "base_uri": "https://localhost:8080/"
        },
        "id": "9Fkviv05e_JG",
        "outputId": "1872ec95-9b97-4e43-e211-98ec72bd0880"
      },
      "outputs": [
        {
          "name": "stdout",
          "output_type": "stream",
          "text": [
            "Enter the Amazon product URL: https://www.amazon.com/Decorations-Christmas-Thanksgiving-Ceremony-Handwoven/dp/B07HB147H3/ref=sr_1_1_sspa?crid=1LT04TIDEHBRN&dib=eyJ2IjoiMSJ9.5zYkyRKZLNqoXRoMXk76SH2zAZmCuXtPtLKcryy8-vjpT6zNlZ73WOyXJbx5_xvndrCHZnrWw4B6DiOaPlQ9MBj3cplHe-GXhFAs0e6oiEZ-zwHnyQvOqA9JBRdzJbGd3HJSZhkGKyOnbr9lLwjuvcv_alOgK0gmM2rlnYCXDZX_ozxdEZP763qLEvL2zihC70fCtmyKDmwRk80hCOYqpHGZNtDWi6_VbzNKrdKvGDhB1n0AgpTqaLhBCynv3GnAdp1Jrxq-VtN0DXY03bSGsmhZW04SaDyDT_DFAMo96DA.cX6Bti05ufR33Bbbj-iFvE9zdxne_KR49cseWffub9E&dib_tag=se&keywords=cinco%2Bde%2Bmayo%2Bdecorations&qid=1714509266&sprefix=%2Caps%2C380&sr=8-1-spons&sp_csd=d2lkZ2V0TmFtZT1zcF9hdGY&th=1\n",
            "Positive Percentage: 85.71%\n",
            "Negative Percentage: 0.00%\n",
            "Neutral Percentage: 14.29%\n",
            "\n",
            "Summary:\n",
            " This product has received mostly positive reviews for its beautiful and bright colors, great value, and festive design. However, some reviewers have noted that the fabric is lightweight and doesn't hold up well when washed. Overall, it is a great addition to parties and events, though it may not be the most durable option.\n"
          ]
        }
      ],
      "source": [
        "user_url = input(\"Enter the Amazon product URL: \")\n",
        "reviews = fetch_reviews(user_url)\n",
        "analysis_results = analyze_reviews(reviews)\n",
        "summary = generate_summary(reviews)\n",
        "\n",
        "# Printing the analysis results one by one\n",
        "for key, value in analysis_results.items():\n",
        "    print(f\"{key}: {value:.2f}%\")\n",
        "\n",
        "print(\"\\nSummary:\\n\", summary)"
      ]
    },
    {
      "cell_type": "code",
      "execution_count": null,
      "metadata": {
        "id": "G55VfVl2gG5v"
      },
      "outputs": [],
      "source": []
    }
  ],
  "metadata": {
    "colab": {
      "provenance": []
    },
    "kernelspec": {
      "display_name": "Python 3",
      "name": "python3"
    },
    "language_info": {
      "name": "python"
    }
  },
  "nbformat": 4,
  "nbformat_minor": 0
}
